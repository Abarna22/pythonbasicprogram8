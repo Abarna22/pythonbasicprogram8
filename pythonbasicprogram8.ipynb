{
 "cells": [
  {
   "cell_type": "code",
   "execution_count": 1,
   "id": "7b88662c",
   "metadata": {},
   "outputs": [
    {
     "name": "stdout",
     "output_type": "stream",
     "text": [
      "[2, 4, 6]\n",
      "[2, 4, 6]\n",
      "[2, 4, 6]\n"
     ]
    }
   ],
   "source": [
    "\"\"\"1. Write a Python Program to Add Two Matrices?\n",
    "Ans\"\"\"\n",
    "x=[[1,2,3],[1,2,3],[1,2,3]]\n",
    "y=[[1,2,3],[1,2,3],[1,2,3]]\n",
    "r=[[0,0,0],[0,0,0],[0,0,0]]\n",
    "for i in range(len(x)):\n",
    "    for j in range(len(x[0])):\n",
    "        r[i][j]=x[i][j]+y[i][j]\n",
    "for i in r:\n",
    "    print(i)"
   ]
  },
  {
   "cell_type": "code",
   "execution_count": 5,
   "id": "1ec8e3da",
   "metadata": {},
   "outputs": [
    {
     "name": "stdout",
     "output_type": "stream",
     "text": [
      "[3, 6, 9]\n",
      "[3, 6, 9]\n",
      "[3, 6, 9]\n"
     ]
    }
   ],
   "source": [
    "\"\"\"2. Write a Python Program to Multiply Two Matrices?\n",
    "Ans\"\"\"\n",
    "x=[[1,2,3],[1,2,3],[1,2,3]]\n",
    "y=[[1,2,3],[1,2,3],[1,2,3]]\n",
    "r=[[0,0,0],[0,0,0],[0,0,0]]\n",
    "for i in range(len(x)):\n",
    "    for j in range(len(x[0])):\n",
    "        for k in range(len(y)):\n",
    "            r[i][j]=x[i][k]*y[k][j]\n",
    "for i in r:\n",
    "    print(i)"
   ]
  },
  {
   "cell_type": "code",
   "execution_count": 7,
   "id": "1d07424f",
   "metadata": {},
   "outputs": [
    {
     "name": "stdout",
     "output_type": "stream",
     "text": [
      "[1, 3, 5]\n",
      "[2, 4, 6]\n",
      "[9, 8, 7]\n"
     ]
    }
   ],
   "source": [
    "\"\"\"3. Write a Python Program to Transpose a Matrix?\n",
    "Ans\"\"\"\n",
    "x=[[1,2,9],[3,4,8],[5,6,7]]\n",
    "r=[[0,0,0],[0,0,0],[0,0,0]]\n",
    "for i in range(len(x)):\n",
    "    for j in range(len(x[0])):\n",
    "        r[i][j]=x[j][i]\n",
    "for i in r:\n",
    "    print(i)\n"
   ]
  },
  {
   "cell_type": "code",
   "execution_count": 11,
   "id": "2082f79b",
   "metadata": {},
   "outputs": [
    {
     "name": "stdout",
     "output_type": "stream",
     "text": [
      "Enter the string:Program to Sort Words in Alphabetic Order\n",
      "Alphabetic\n",
      "Order\n",
      "Program\n",
      "Sort\n",
      "Words\n",
      "in\n",
      "to\n"
     ]
    }
   ],
   "source": [
    "\"\"\"4. Write a Python Program to Sort Words in Alphabetic Order?\n",
    "ans\"\"\"\n",
    "string=input(\"Enter the string:\")\n",
    "word= string.split()\n",
    "word.sort()\n",
    "for i in word:\n",
    "    print(i)"
   ]
  },
  {
   "cell_type": "code",
   "execution_count": 15,
   "id": "14205b71",
   "metadata": {},
   "outputs": [
    {
     "name": "stdout",
     "output_type": "stream",
     "text": [
      "enter the string:\"\"hello!@python*&%\"\"\n",
      "hellopython\n"
     ]
    }
   ],
   "source": [
    "\"\"\"5. Write a Python Program to Remove Punctuation From a String?\n",
    "Ans\"\"\"\n",
    "punctuations = '''!()-[]{};:'\"\\,<>./?@#$%^&*_~'''\n",
    "\n",
    "string=input(\"enter the string:\")\n",
    "no_punc=\"\"\n",
    "for char in string:\n",
    "    if char not in punctuations:\n",
    "        no_punc=no_punc+char\n",
    "print(no_punc)"
   ]
  },
  {
   "cell_type": "code",
   "execution_count": null,
   "id": "c48a98e2",
   "metadata": {},
   "outputs": [],
   "source": []
  }
 ],
 "metadata": {
  "kernelspec": {
   "display_name": "Python 3",
   "language": "python",
   "name": "python3"
  },
  "language_info": {
   "codemirror_mode": {
    "name": "ipython",
    "version": 3
   },
   "file_extension": ".py",
   "mimetype": "text/x-python",
   "name": "python",
   "nbconvert_exporter": "python",
   "pygments_lexer": "ipython3",
   "version": "3.8.8"
  }
 },
 "nbformat": 4,
 "nbformat_minor": 5
}
